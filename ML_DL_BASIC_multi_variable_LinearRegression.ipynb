{
  "nbformat": 4,
  "nbformat_minor": 0,
  "metadata": {
    "colab": {
      "provenance": [],
      "authorship_tag": "ABX9TyMLOyslpoPb03CSWv8xdMFx",
      "include_colab_link": true
    },
    "kernelspec": {
      "name": "python3",
      "display_name": "Python 3"
    },
    "language_info": {
      "name": "python"
    }
  },
  "cells": [
    {
      "cell_type": "markdown",
      "metadata": {
        "id": "view-in-github",
        "colab_type": "text"
      },
      "source": [
        "<a href=\"https://colab.research.google.com/github/CLKim00/Machine-Learning/blob/main/ML_DL_BASIC_multi_variable_LinearRegression.ipynb\" target=\"_parent\"><img src=\"https://colab.research.google.com/assets/colab-badge.svg\" alt=\"Open In Colab\"/></a>"
      ]
    },
    {
      "cell_type": "code",
      "execution_count": null,
      "metadata": {
        "id": "kcusg_xi_4wk"
      },
      "outputs": [],
      "source": [
        "import tensorflow as tf\n",
        "import numpy as np"
      ]
    },
    {
      "cell_type": "code",
      "source": [
        "x_data = [[73., 80., 75.],\n",
        "          [93., 88., 93.],\n",
        "          [89., 91., 90.],\n",
        "          [96., 98., 100.],\n",
        "          [73., 66., 70.]]\n",
        "y_data = [[152.],\n",
        "          [185.],\n",
        "          [180.],\n",
        "          [196.],\n",
        "          [142.]]"
      ],
      "metadata": {
        "id": "jxcSTXUBAN19"
      },
      "execution_count": null,
      "outputs": []
    },
    {
      "cell_type": "code",
      "source": [
        "tf.model = tf.keras.Sequential()"
      ],
      "metadata": {
        "id": "m5MfE_uuAz0c"
      },
      "execution_count": null,
      "outputs": []
    },
    {
      "cell_type": "code",
      "source": [
        "tf.model.add(tf.keras.layers.Dense(units=1, input_dim=3))   # input_dim=3 gives multi-variable regression\n",
        "tf.model.add(tf.keras.layers.Activation('linear'))  # this line can be omitted, as linear activation is default"
      ],
      "metadata": {
        "id": "qE3x7YXrA4qt"
      },
      "execution_count": null,
      "outputs": []
    },
    {
      "cell_type": "code",
      "source": [
        "tf.model.compile(loss='mse', optimizer=tf.keras.optimizers.SGD(lr=1e-5))\n",
        "tf.model.summary()\n",
        "history = tf.model.fit(x_data, y_data, epochs=100)"
      ],
      "metadata": {
        "colab": {
          "base_uri": "https://localhost:8080/"
        },
        "id": "hiIrkQ9YBV8s",
        "outputId": "5db66e4f-0faa-42cd-e518-f9601f7f4705"
      },
      "execution_count": null,
      "outputs": [
        {
          "output_type": "stream",
          "name": "stderr",
          "text": [
            "WARNING:absl:`lr` is deprecated in Keras optimizer, please use `learning_rate` or use the legacy optimizer, e.g.,tf.keras.optimizers.legacy.SGD.\n"
          ]
        },
        {
          "output_type": "stream",
          "name": "stdout",
          "text": [
            "Model: \"sequential\"\n",
            "_________________________________________________________________\n",
            " Layer (type)                Output Shape              Param #   \n",
            "=================================================================\n",
            " dense (Dense)               (None, 1)                 4         \n",
            "                                                                 \n",
            " activation (Activation)     (None, 1)                 0         \n",
            "                                                                 \n",
            "=================================================================\n",
            "Total params: 4\n",
            "Trainable params: 4\n",
            "Non-trainable params: 0\n",
            "_________________________________________________________________\n",
            "Epoch 1/100\n",
            "1/1 [==============================] - 0s 451ms/step - loss: nan\n",
            "Epoch 2/100\n",
            "1/1 [==============================] - 0s 20ms/step - loss: nan\n",
            "Epoch 3/100\n",
            "1/1 [==============================] - 0s 17ms/step - loss: nan\n",
            "Epoch 4/100\n",
            "1/1 [==============================] - 0s 16ms/step - loss: nan\n",
            "Epoch 5/100\n",
            "1/1 [==============================] - 0s 15ms/step - loss: nan\n",
            "Epoch 6/100\n",
            "1/1 [==============================] - 0s 10ms/step - loss: nan\n",
            "Epoch 7/100\n",
            "1/1 [==============================] - 0s 10ms/step - loss: nan\n",
            "Epoch 8/100\n",
            "1/1 [==============================] - 0s 10ms/step - loss: nan\n",
            "Epoch 9/100\n",
            "1/1 [==============================] - 0s 20ms/step - loss: nan\n",
            "Epoch 10/100\n",
            "1/1 [==============================] - 0s 17ms/step - loss: nan\n",
            "Epoch 11/100\n",
            "1/1 [==============================] - 0s 16ms/step - loss: nan\n",
            "Epoch 12/100\n",
            "1/1 [==============================] - 0s 15ms/step - loss: nan\n",
            "Epoch 13/100\n",
            "1/1 [==============================] - 0s 11ms/step - loss: nan\n",
            "Epoch 14/100\n",
            "1/1 [==============================] - 0s 11ms/step - loss: nan\n",
            "Epoch 15/100\n",
            "1/1 [==============================] - 0s 15ms/step - loss: nan\n",
            "Epoch 16/100\n",
            "1/1 [==============================] - 0s 10ms/step - loss: nan\n",
            "Epoch 17/100\n",
            "1/1 [==============================] - 0s 11ms/step - loss: nan\n",
            "Epoch 18/100\n",
            "1/1 [==============================] - 0s 12ms/step - loss: nan\n",
            "Epoch 19/100\n",
            "1/1 [==============================] - 0s 11ms/step - loss: nan\n",
            "Epoch 20/100\n",
            "1/1 [==============================] - 0s 11ms/step - loss: nan\n",
            "Epoch 21/100\n",
            "1/1 [==============================] - 0s 11ms/step - loss: nan\n",
            "Epoch 22/100\n",
            "1/1 [==============================] - 0s 14ms/step - loss: nan\n",
            "Epoch 23/100\n",
            "1/1 [==============================] - 0s 11ms/step - loss: nan\n",
            "Epoch 24/100\n",
            "1/1 [==============================] - 0s 13ms/step - loss: nan\n",
            "Epoch 25/100\n",
            "1/1 [==============================] - 0s 15ms/step - loss: nan\n",
            "Epoch 26/100\n",
            "1/1 [==============================] - 0s 18ms/step - loss: nan\n",
            "Epoch 27/100\n",
            "1/1 [==============================] - 0s 12ms/step - loss: nan\n",
            "Epoch 28/100\n",
            "1/1 [==============================] - 0s 16ms/step - loss: nan\n",
            "Epoch 29/100\n",
            "1/1 [==============================] - 0s 13ms/step - loss: nan\n",
            "Epoch 30/100\n",
            "1/1 [==============================] - 0s 11ms/step - loss: nan\n",
            "Epoch 31/100\n",
            "1/1 [==============================] - 0s 11ms/step - loss: nan\n",
            "Epoch 32/100\n",
            "1/1 [==============================] - 0s 12ms/step - loss: nan\n",
            "Epoch 33/100\n",
            "1/1 [==============================] - 0s 13ms/step - loss: nan\n",
            "Epoch 34/100\n",
            "1/1 [==============================] - 0s 14ms/step - loss: nan\n",
            "Epoch 35/100\n",
            "1/1 [==============================] - 0s 18ms/step - loss: nan\n",
            "Epoch 36/100\n",
            "1/1 [==============================] - 0s 12ms/step - loss: nan\n",
            "Epoch 37/100\n",
            "1/1 [==============================] - 0s 22ms/step - loss: nan\n",
            "Epoch 38/100\n",
            "1/1 [==============================] - 0s 12ms/step - loss: nan\n",
            "Epoch 39/100\n",
            "1/1 [==============================] - 0s 14ms/step - loss: nan\n",
            "Epoch 40/100\n",
            "1/1 [==============================] - 0s 10ms/step - loss: nan\n",
            "Epoch 41/100\n",
            "1/1 [==============================] - 0s 11ms/step - loss: nan\n",
            "Epoch 42/100\n",
            "1/1 [==============================] - 0s 10ms/step - loss: nan\n",
            "Epoch 43/100\n",
            "1/1 [==============================] - 0s 13ms/step - loss: nan\n",
            "Epoch 44/100\n",
            "1/1 [==============================] - 0s 14ms/step - loss: nan\n",
            "Epoch 45/100\n",
            "1/1 [==============================] - 0s 12ms/step - loss: nan\n",
            "Epoch 46/100\n",
            "1/1 [==============================] - 0s 12ms/step - loss: nan\n",
            "Epoch 47/100\n",
            "1/1 [==============================] - 0s 11ms/step - loss: nan\n",
            "Epoch 48/100\n",
            "1/1 [==============================] - 0s 12ms/step - loss: nan\n",
            "Epoch 49/100\n",
            "1/1 [==============================] - 0s 14ms/step - loss: nan\n",
            "Epoch 50/100\n",
            "1/1 [==============================] - 0s 14ms/step - loss: nan\n",
            "Epoch 51/100\n",
            "1/1 [==============================] - 0s 14ms/step - loss: nan\n",
            "Epoch 52/100\n",
            "1/1 [==============================] - 0s 13ms/step - loss: nan\n",
            "Epoch 53/100\n",
            "1/1 [==============================] - 0s 11ms/step - loss: nan\n",
            "Epoch 54/100\n",
            "1/1 [==============================] - 0s 12ms/step - loss: nan\n",
            "Epoch 55/100\n",
            "1/1 [==============================] - 0s 16ms/step - loss: nan\n",
            "Epoch 56/100\n",
            "1/1 [==============================] - 0s 15ms/step - loss: nan\n",
            "Epoch 57/100\n",
            "1/1 [==============================] - 0s 15ms/step - loss: nan\n",
            "Epoch 58/100\n",
            "1/1 [==============================] - 0s 17ms/step - loss: nan\n",
            "Epoch 59/100\n",
            "1/1 [==============================] - 0s 13ms/step - loss: nan\n",
            "Epoch 60/100\n",
            "1/1 [==============================] - 0s 11ms/step - loss: nan\n",
            "Epoch 61/100\n",
            "1/1 [==============================] - 0s 11ms/step - loss: nan\n",
            "Epoch 62/100\n",
            "1/1 [==============================] - 0s 15ms/step - loss: nan\n",
            "Epoch 63/100\n",
            "1/1 [==============================] - 0s 12ms/step - loss: nan\n",
            "Epoch 64/100\n",
            "1/1 [==============================] - 0s 11ms/step - loss: nan\n",
            "Epoch 65/100\n",
            "1/1 [==============================] - 0s 19ms/step - loss: nan\n",
            "Epoch 66/100\n",
            "1/1 [==============================] - 0s 14ms/step - loss: nan\n",
            "Epoch 67/100\n",
            "1/1 [==============================] - 0s 24ms/step - loss: nan\n",
            "Epoch 68/100\n",
            "1/1 [==============================] - 0s 13ms/step - loss: nan\n",
            "Epoch 69/100\n",
            "1/1 [==============================] - 0s 10ms/step - loss: nan\n",
            "Epoch 70/100\n",
            "1/1 [==============================] - 0s 11ms/step - loss: nan\n",
            "Epoch 71/100\n",
            "1/1 [==============================] - 0s 14ms/step - loss: nan\n",
            "Epoch 72/100\n",
            "1/1 [==============================] - 0s 10ms/step - loss: nan\n",
            "Epoch 73/100\n",
            "1/1 [==============================] - 0s 15ms/step - loss: nan\n",
            "Epoch 74/100\n",
            "1/1 [==============================] - 0s 14ms/step - loss: nan\n",
            "Epoch 75/100\n",
            "1/1 [==============================] - 0s 10ms/step - loss: nan\n",
            "Epoch 76/100\n",
            "1/1 [==============================] - 0s 11ms/step - loss: nan\n",
            "Epoch 77/100\n",
            "1/1 [==============================] - 0s 12ms/step - loss: nan\n",
            "Epoch 78/100\n",
            "1/1 [==============================] - 0s 13ms/step - loss: nan\n",
            "Epoch 79/100\n",
            "1/1 [==============================] - 0s 15ms/step - loss: nan\n",
            "Epoch 80/100\n",
            "1/1 [==============================] - 0s 11ms/step - loss: nan\n",
            "Epoch 81/100\n",
            "1/1 [==============================] - 0s 13ms/step - loss: nan\n",
            "Epoch 82/100\n",
            "1/1 [==============================] - 0s 14ms/step - loss: nan\n",
            "Epoch 83/100\n",
            "1/1 [==============================] - 0s 14ms/step - loss: nan\n",
            "Epoch 84/100\n",
            "1/1 [==============================] - 0s 14ms/step - loss: nan\n",
            "Epoch 85/100\n",
            "1/1 [==============================] - 0s 12ms/step - loss: nan\n",
            "Epoch 86/100\n",
            "1/1 [==============================] - 0s 10ms/step - loss: nan\n",
            "Epoch 87/100\n",
            "1/1 [==============================] - 0s 11ms/step - loss: nan\n",
            "Epoch 88/100\n",
            "1/1 [==============================] - 0s 11ms/step - loss: nan\n",
            "Epoch 89/100\n",
            "1/1 [==============================] - 0s 13ms/step - loss: nan\n",
            "Epoch 90/100\n",
            "1/1 [==============================] - 0s 13ms/step - loss: nan\n",
            "Epoch 91/100\n",
            "1/1 [==============================] - 0s 12ms/step - loss: nan\n",
            "Epoch 92/100\n",
            "1/1 [==============================] - 0s 11ms/step - loss: nan\n",
            "Epoch 93/100\n",
            "1/1 [==============================] - 0s 11ms/step - loss: nan\n",
            "Epoch 94/100\n",
            "1/1 [==============================] - 0s 13ms/step - loss: nan\n",
            "Epoch 95/100\n",
            "1/1 [==============================] - 0s 13ms/step - loss: nan\n",
            "Epoch 96/100\n",
            "1/1 [==============================] - 0s 37ms/step - loss: nan\n",
            "Epoch 97/100\n",
            "1/1 [==============================] - 0s 25ms/step - loss: nan\n",
            "Epoch 98/100\n",
            "1/1 [==============================] - 0s 25ms/step - loss: nan\n",
            "Epoch 99/100\n",
            "1/1 [==============================] - 0s 36ms/step - loss: nan\n",
            "Epoch 100/100\n",
            "1/1 [==============================] - 0s 14ms/step - loss: nan\n"
          ]
        }
      ]
    },
    {
      "cell_type": "code",
      "source": [
        "y_predict = tf.model.predict(np.array([[72., 93., 90.]]))\n",
        "print(y_predict)"
      ],
      "metadata": {
        "colab": {
          "base_uri": "https://localhost:8080/"
        },
        "id": "AZM4V9QPCUWu",
        "outputId": "ce5fe869-991e-4a60-94b5-5925b49c09d4"
      },
      "execution_count": null,
      "outputs": [
        {
          "output_type": "stream",
          "name": "stdout",
          "text": [
            "1/1 [==============================] - 0s 94ms/step\n",
            "[[nan]]\n"
          ]
        }
      ]
    },
    {
      "cell_type": "code",
      "source": [],
      "metadata": {
        "id": "vX1rZvZPCg2u"
      },
      "execution_count": null,
      "outputs": []
    }
  ]
}